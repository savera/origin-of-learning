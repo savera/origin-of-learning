{
 "cells": [
  {
   "cell_type": "markdown",
   "metadata": {},
   "source": [
    "# Tic-Tac-Toe by descending the Game Play tree\n",
    "\n",
    "A simple game of tic-tac-toe can be encoded in a 3x3 matrix like below. With `-1` and `+1` as X and O respectively."
   ]
  },
  {
   "cell_type": "code",
   "execution_count": 1,
   "metadata": {},
   "outputs": [
    {
     "data": {
      "text/plain": [
       "array([[-1,  1,  0],\n",
       "       [ 0, -1,  1],\n",
       "       [ 0, -1,  1]])"
      ]
     },
     "execution_count": 1,
     "metadata": {},
     "output_type": "execute_result"
    }
   ],
   "source": [
    "import numpy as np\n",
    "\n",
    "np.array([[-1, +1,  0],\n",
    "          [0,  -1, +1],\n",
    "          [0,  -1, +1]])"
   ]
  },
  {
   "cell_type": "markdown",
   "metadata": {},
   "source": [
    "**Problem**: Given a matrix like above, write a function that determines if there are empty tiles on the board. Look at [`np.any`](https://docs.scipy.org/doc/numpy/reference/generated/numpy.any.html)"
   ]
  },
  {
   "cell_type": "code",
   "execution_count": 2,
   "metadata": {},
   "outputs": [],
   "source": [
    "def has_open_spaces(board):\n",
    "    pass"
   ]
  },
  {
   "cell_type": "markdown",
   "metadata": {},
   "source": [
    "**Problem:** Write a similar function to see who has one the game? Return -1, 1, 0 for -1, +1, or nobody winning respectively."
   ]
  },
  {
   "cell_type": "code",
   "execution_count": 3,
   "metadata": {},
   "outputs": [],
   "source": [
    "def winner(board):\n",
    "    pass"
   ]
  },
  {
   "cell_type": "markdown",
   "metadata": {},
   "source": [
    "Given a board with open spaces, we can add +1 or -1 to any of the open spaces to generate a possible next turn state.\n",
    "\n",
    "**Problem:** Given that it is `player`'s turn, generate a list of all the possible next game states for all the possible moves `player` could take."
   ]
  },
  {
   "cell_type": "code",
   "execution_count": 4,
   "metadata": {},
   "outputs": [],
   "source": [
    "def next_game_state(board, player):\n",
    "    pass"
   ]
  },
  {
   "cell_type": "markdown",
   "metadata": {},
   "source": [
    "If a player wishes to take any given move, we ought to rank the possible moves somehow.\n",
    "\n",
    "**Problem:** Think of a possible way to give a score for a given board that correlates to: high score ==> board will likely win, low score ==> board will likely lose. Implement this score. Be sure to take into consideration future game states."
   ]
  },
  {
   "cell_type": "code",
   "execution_count": 5,
   "metadata": {},
   "outputs": [],
   "source": [
    "def score(board, player):\n",
    "    pass"
   ]
  },
  {
   "cell_type": "markdown",
   "metadata": {},
   "source": [
    "**Problem:** Implement a function so you can play the game. Display the board each turn and give the board a score. Use `input()` to collect user input for game play. Make sure your `score` makes intuitive sense."
   ]
  },
  {
   "cell_type": "code",
   "execution_count": 8,
   "metadata": {},
   "outputs": [],
   "source": [
    "def human_user(board, player):\n",
    "    \"\"\"\n",
    "    For a board and a player, get the next game state by using `input` to get the players move\n",
    "    \n",
    "    return the board for the next game state\n",
    "    \"\"\"\n",
    "    pass\n",
    "\n",
    "def play(player1_input=human_user, player2_input=human_user):\n",
    "    \"\"\"\n",
    "    User player1_input and player2_input to get the next game state.\n",
    "    \n",
    "    play until someone has won the game.\n",
    "    \"\"\"\n",
    "    pass\n",
    "\n",
    "play()"
   ]
  },
  {
   "cell_type": "markdown",
   "metadata": {},
   "source": [
    "**Problem:** Implement an AI user that given the board and player, picks the next game state board with the highest score."
   ]
  },
  {
   "cell_type": "code",
   "execution_count": 9,
   "metadata": {},
   "outputs": [],
   "source": [
    "def ai_user(board, player):\n",
    "    pass"
   ]
  },
  {
   "cell_type": "markdown",
   "metadata": {},
   "source": [
    "**Problem:** Play the game against the AI."
   ]
  },
  {
   "cell_type": "code",
   "execution_count": 10,
   "metadata": {},
   "outputs": [],
   "source": [
    "play(player2_input=ai_user)"
   ]
  }
 ],
 "metadata": {
  "kernelspec": {
   "display_name": "Python 3",
   "language": "python",
   "name": "python3"
  },
  "language_info": {
   "codemirror_mode": {
    "name": "ipython",
    "version": 3
   },
   "file_extension": ".py",
   "mimetype": "text/x-python",
   "name": "python",
   "nbconvert_exporter": "python",
   "pygments_lexer": "ipython3",
   "version": "3.6.4"
  }
 },
 "nbformat": 4,
 "nbformat_minor": 2
}
