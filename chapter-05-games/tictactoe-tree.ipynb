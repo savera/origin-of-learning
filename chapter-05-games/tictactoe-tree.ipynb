{
 "cells": [
  {
   "cell_type": "markdown",
   "metadata": {},
   "source": [
    "# Tic-Tac-Toe by descending the Game Play tree\n",
    "\n",
    "A simple game of tic-tac-toe can be encoded in a 3x3 matrix like below. With `-1` and `+1` as X and O respectively."
   ]
  },
  {
   "cell_type": "code",
   "execution_count": 13,
   "metadata": {},
   "outputs": [
    {
     "name": "stdout",
     "output_type": "stream",
     "text": [
      "[[False False  True]\n",
      " [ True False False]\n",
      " [ True False False]]\n",
      "[0 0 0]\n",
      "[1 1 1 1]\n"
     ]
    }
   ],
   "source": [
    "import numpy as np\n",
    "\n",
    "board = np.array([[+1, +1,  0],\n",
    "          [0,  -1, +1],\n",
    "          [0,  -1, +1]])\n",
    "print (board==0)\n",
    "print (board[board == 0])\n",
    "print (board[board == 1])"
   ]
  },
  {
   "cell_type": "markdown",
   "metadata": {},
   "source": [
    "**Problem**: Given a matrix like above, write a function that determines if there are empty tiles on the board. Look at [`np.any`](https://docs.scipy.org/doc/numpy/reference/generated/numpy.any.html)"
   ]
  },
  {
   "cell_type": "code",
   "execution_count": 17,
   "metadata": {},
   "outputs": [
    {
     "name": "stdout",
     "output_type": "stream",
     "text": [
      "True\n",
      "False\n",
      "True\n"
     ]
    }
   ],
   "source": [
    "def has_open_spaces(board):\n",
    "    return (np.any(board==0))\n",
    "\n",
    "board_none = np.array([[-1, +1,  1],\n",
    "          [1,  -1, +1],\n",
    "          [1,  -1, +1]])\n",
    "board_all = np.array([[0, 0,  0],\n",
    "          [0,  0, 0],\n",
    "          [0,  0, 0]])\n",
    "\n",
    "print (has_open_spaces(board))\n",
    "print (has_open_spaces(board_none))\n",
    "print (has_open_spaces(board_all))"
   ]
  },
  {
   "cell_type": "markdown",
   "metadata": {},
   "source": [
    "**Problem:** Write a similar function to see who has one the game? Return -1, 1, 0 for -1, +1, or nobody winning respectively."
   ]
  },
  {
   "cell_type": "code",
   "execution_count": 39,
   "metadata": {},
   "outputs": [
    {
     "name": "stdout",
     "output_type": "stream",
     "text": [
      "0\n",
      "-1\n",
      "-1\n",
      "1\n",
      "1\n"
     ]
    }
   ],
   "source": [
    "def winner(board):\n",
    "    rowSums = np.empty([1,3])\n",
    "    colSums = np.empty([1,3])\n",
    "    sum_diagnol = 0\n",
    "    diagSums = [(1,2)]\n",
    "    for a in range (board.shape[0]):\n",
    "        sum_row = 0\n",
    "        for b in range (board.shape[1]):\n",
    "            sum_row += board[a][b]\n",
    "        rowSums[0][a] = sum_row\n",
    "    for c in range (board.shape[1]): \n",
    "        sum_column = 0 \n",
    "        for d in range (board.shape[0]): \n",
    "            sum_column += board[d][c]\n",
    "        colSums[0][c] = sum_column\n",
    "    for e in range (board.shape[0]):\n",
    "        sum_diagnol += board[e][e]\n",
    "        \n",
    "    if (np.any(rowSums == 3) or np.any(colSums == 3)):\n",
    "        return 1\n",
    "    elif (np.any(rowSums == -3) or np.any(colSums == -3)):\n",
    "        return -1\n",
    "    elif (np.any(rowSums == 0) or np.any(colSums == 0)):\n",
    "        return 0\n",
    "    return 0\n",
    "\n",
    "board_none = np.array([[0, 0,  0],\n",
    "          [0,  0, 0],\n",
    "          [0,  0, 0]])\n",
    "board_p2R = np.array([[-1, -1,  -1],\n",
    "          [0,  -1, +1],\n",
    "          [0,  +1, +1]])\n",
    "board_p2C = np.array([[+1, -1,  0],\n",
    "          [0,  -1, +1],\n",
    "          [0,  -1, +1]])\n",
    "board_p1C = np.array([[-1, 0,  +1],\n",
    "          [0,  -1, +1],\n",
    "          [0,  +1, +1]])\n",
    "board_p1R = np.array([[+1, -1,  0],\n",
    "          [0,  -1, +1],\n",
    "          [+1,  +1, +1]])\n",
    "\n",
    "print (winner(board_none))\n",
    "print (winner(board_p2R))\n",
    "print (winner(board_p2C))\n",
    "print (winner(board_p1C))\n",
    "print (winner(board_p1R))"
   ]
  },
  {
   "cell_type": "markdown",
   "metadata": {},
   "source": [
    "Given a board with open spaces, we can add +1 or -1 to any of the open spaces to generate a possible next turn state.\n",
    "\n",
    "**Problem:** Given that it is `player`'s turn, generate a list of all the possible next game states for all the possible moves `player` could take."
   ]
  },
  {
   "cell_type": "code",
   "execution_count": 46,
   "metadata": {},
   "outputs": [
    {
     "ename": "ValueError",
     "evalue": "The truth value of an array with more than one element is ambiguous. Use a.any() or a.all()",
     "output_type": "error",
     "traceback": [
      "\u001b[0;31m---------------------------------------------------------------------------\u001b[0m",
      "\u001b[0;31mValueError\u001b[0m                                Traceback (most recent call last)",
      "\u001b[0;32m<ipython-input-46-278229be89f2>\u001b[0m in \u001b[0;36m<module>\u001b[0;34m()\u001b[0m\n\u001b[1;32m     14\u001b[0m           [0,  -1, +1]])\n\u001b[1;32m     15\u001b[0m \u001b[0;34m\u001b[0m\u001b[0m\n\u001b[0;32m---> 16\u001b[0;31m \u001b[0mprint\u001b[0m \u001b[0;34m(\u001b[0m\u001b[0mnext_game_state\u001b[0m\u001b[0;34m(\u001b[0m\u001b[0mboard1\u001b[0m\u001b[0;34m,\u001b[0m \u001b[0;34m+\u001b[0m\u001b[0;36m1\u001b[0m\u001b[0;34m)\u001b[0m\u001b[0;34m)\u001b[0m\u001b[0;34m\u001b[0m\u001b[0m\n\u001b[0m",
      "\u001b[0;32m<ipython-input-46-278229be89f2>\u001b[0m in \u001b[0;36mnext_game_state\u001b[0;34m(board, player)\u001b[0m\n\u001b[1;32m      4\u001b[0m         \u001b[0;32mfor\u001b[0m \u001b[0mb\u001b[0m \u001b[0;32min\u001b[0m \u001b[0mrange\u001b[0m \u001b[0;34m(\u001b[0m\u001b[0mboard\u001b[0m\u001b[0;34m.\u001b[0m\u001b[0mshape\u001b[0m\u001b[0;34m[\u001b[0m\u001b[0;36m1\u001b[0m\u001b[0;34m]\u001b[0m\u001b[0;34m)\u001b[0m\u001b[0;34m:\u001b[0m\u001b[0;34m\u001b[0m\u001b[0m\n\u001b[1;32m      5\u001b[0m             \u001b[0mb\u001b[0m \u001b[0;34m=\u001b[0m \u001b[0mboard\u001b[0m\u001b[0;34m[\u001b[0m\u001b[0ma\u001b[0m\u001b[0;34m]\u001b[0m\u001b[0;34m[\u001b[0m\u001b[0mb\u001b[0m\u001b[0;34m]\u001b[0m\u001b[0;34m\u001b[0m\u001b[0m\n\u001b[0;32m----> 6\u001b[0;31m             \u001b[0;32mif\u001b[0m \u001b[0;34m(\u001b[0m\u001b[0mb\u001b[0m \u001b[0;34m==\u001b[0m \u001b[0;36m0\u001b[0m\u001b[0;34m)\u001b[0m\u001b[0;34m:\u001b[0m\u001b[0;34m\u001b[0m\u001b[0m\n\u001b[0m\u001b[1;32m      7\u001b[0m                 \u001b[0ma\u001b[0m \u001b[0;34m=\u001b[0m \u001b[0mboard\u001b[0m\u001b[0;34m.\u001b[0m\u001b[0mcopy\u001b[0m\u001b[0;34m(\u001b[0m\u001b[0;34m)\u001b[0m\u001b[0;34m\u001b[0m\u001b[0m\n\u001b[1;32m      8\u001b[0m                 \u001b[0ma\u001b[0m\u001b[0;34m[\u001b[0m\u001b[0ma\u001b[0m\u001b[0;34m]\u001b[0m\u001b[0;34m[\u001b[0m\u001b[0mb\u001b[0m\u001b[0;34m]\u001b[0m \u001b[0;34m=\u001b[0m \u001b[0mplayer\u001b[0m\u001b[0;34m\u001b[0m\u001b[0m\n",
      "\u001b[0;31mValueError\u001b[0m: The truth value of an array with more than one element is ambiguous. Use a.any() or a.all()"
     ]
    }
   ],
   "source": [
    "def next_game_state(board, player):\n",
    "    allPossible = []\n",
    "    for a in range (board.shape[0]): \n",
    "        for b in range (board.shape[1]): \n",
    "            if (board[a][b] == 0):\n",
    "                a = board.copy()\n",
    "                a[a][b] = player\n",
    "                allPossible.append(a)\n",
    "    return allPossible\n",
    "\n",
    "board1 = np.array([[+1, +1,  0],\n",
    "          [0,  -1, +1],\n",
    "          [0,  -1, +1]])\n",
    "\n",
    "print (next_game_state(board1, +1))"
   ]
  },
  {
   "cell_type": "markdown",
   "metadata": {},
   "source": [
    "If a player wishes to take any given move, we ought to rank the possible moves somehow.\n",
    "\n",
    "**Problem:** Think of a possible way to give a score for a given board that correlates to: high score ==> board will likely win, low score ==> board will likely lose. Implement this score. Be sure to take into consideration future game states."
   ]
  },
  {
   "cell_type": "code",
   "execution_count": 5,
   "metadata": {},
   "outputs": [],
   "source": [
    "def score(board, player):\n",
    "    pass"
   ]
  },
  {
   "cell_type": "markdown",
   "metadata": {},
   "source": [
    "**Problem:** Implement a function so you can play the game. Display the board each turn and give the board a score. Use `input()` to collect user input for game play. Make sure your `score` makes intuitive sense."
   ]
  },
  {
   "cell_type": "code",
   "execution_count": 8,
   "metadata": {},
   "outputs": [],
   "source": [
    "def human_user(board, player):\n",
    "    \"\"\"\n",
    "    For a board and a player, get the next game state by using `input` to get the players move\n",
    "    \n",
    "    return the board for the next game state\n",
    "    \"\"\"\n",
    "    pass\n",
    "\n",
    "def play(player1_input=human_user, player2_input=human_user):\n",
    "    \"\"\"\n",
    "    User player1_input and player2_input to get the next game state.\n",
    "    \n",
    "    play until someone has won the game.\n",
    "    \"\"\"\n",
    "    pass\n",
    "\n",
    "play()"
   ]
  },
  {
   "cell_type": "markdown",
   "metadata": {},
   "source": [
    "**Problem:** Implement an AI user that given the board and player, picks the next game state board with the highest score."
   ]
  },
  {
   "cell_type": "code",
   "execution_count": 9,
   "metadata": {},
   "outputs": [],
   "source": [
    "def ai_user(board, player):\n",
    "    pass"
   ]
  },
  {
   "cell_type": "markdown",
   "metadata": {},
   "source": [
    "**Problem:** Play the game against the AI."
   ]
  },
  {
   "cell_type": "code",
   "execution_count": 10,
   "metadata": {},
   "outputs": [],
   "source": [
    "play(player2_input=ai_user)"
   ]
  }
 ],
 "metadata": {
  "kernelspec": {
   "display_name": "Python 3",
   "language": "python",
   "name": "python3"
  },
  "language_info": {
   "codemirror_mode": {
    "name": "ipython",
    "version": 3
   },
   "file_extension": ".py",
   "mimetype": "text/x-python",
   "name": "python",
   "nbconvert_exporter": "python",
   "pygments_lexer": "ipython3",
   "version": "3.6.4"
  }
 },
 "nbformat": 4,
 "nbformat_minor": 2
}
