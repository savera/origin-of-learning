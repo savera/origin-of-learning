{
 "cells": [
  {
   "cell_type": "markdown",
   "metadata": {},
   "source": [
    "# Introduction to Python\n",
    "\n",
    "Python is great.\n",
    "\n",
    "**Problem** Write a for loop that sums the array below. Trying googling for `python for loop sum`"
   ]
  },
  {
   "cell_type": "code",
   "execution_count": 1,
   "metadata": {},
   "outputs": [],
   "source": [
    "A = [1, 2, 3, 4, 5]\n",
    "sum = 0\n",
    "for a in A: \n",
    "    sum+=a"
   ]
  },
  {
   "cell_type": "markdown",
   "metadata": {},
   "source": [
    "**Problem** Use the python built-in function `print(...)` to print the above array `A`"
   ]
  },
  {
   "cell_type": "code",
   "execution_count": 2,
   "metadata": {},
   "outputs": [
    {
     "name": "stdout",
     "output_type": "stream",
     "text": [
      "[1, 2, 3, 4, 5]\n"
     ]
    }
   ],
   "source": [
    "print(A)"
   ]
  },
  {
   "cell_type": "markdown",
   "metadata": {},
   "source": [
    "The library numpy is a great tool for mathematical programming. Try googling `numpy sum` and looking at the example code down at the bottom of the first link ([here just for completeness](https://docs.scipy.org/doc/numpy-1.14.0/reference/generated/numpy.sum.html))\n",
    "\n",
    "**Problem** Sum the below numpy array."
   ]
  },
  {
   "cell_type": "code",
   "execution_count": 3,
   "metadata": {},
   "outputs": [
    {
     "data": {
      "text/plain": [
       "15"
      ]
     },
     "execution_count": 3,
     "metadata": {},
     "output_type": "execute_result"
    }
   ],
   "source": [
    "import numpy as np\n",
    "A = np.array([1, 2, 3, 4, 5])\n",
    "np.sum(A)"
   ]
  },
  {
   "cell_type": "markdown",
   "metadata": {},
   "source": [
    "**Problem** Look at [`np.reshape`](https://docs.scipy.org/doc/numpy/reference/generated/numpy.reshape.html) and reshape the array `A` below to make it equivalent to `B`"
   ]
  },
  {
   "cell_type": "code",
   "execution_count": 7,
   "metadata": {},
   "outputs": [
    {
     "data": {
      "text/plain": [
       "array([[ 0,  1,  2,  3,  4],\n",
       "       [ 5,  6,  7,  8,  9],\n",
       "       [10, 11, 12, 13, 14],\n",
       "       [15, 16, 17, 18, 19]])"
      ]
     },
     "execution_count": 7,
     "metadata": {},
     "output_type": "execute_result"
    }
   ],
   "source": [
    "A = np.arange(20)\n",
    "B = np.array([[ 0,  1,  2,  3,  4],\n",
    "              [ 5,  6,  7,  8,  9],\n",
    "              [10, 11, 12, 13, 14],\n",
    "              [15, 16, 17, 18, 19]])\n",
    "np.reshape(A, (4,5))"
   ]
  },
  {
   "cell_type": "markdown",
   "metadata": {},
   "source": [
    "**Problem** Define a python function `f` that computes the sum of an array `A` passed in as the argument."
   ]
  },
  {
   "cell_type": "code",
   "execution_count": 9,
   "metadata": {},
   "outputs": [],
   "source": [
    "def f(A):\n",
    "    sum = 0 \n",
    "    for a in A:\n",
    "        sum+=a\n",
    "    return sum"
   ]
  },
  {
   "cell_type": "markdown",
   "metadata": {},
   "source": [
    "**Problem** Solve Project Euler Problem [1](https://projecteuler.net/problem=1) and [2](https://projecteuler.net/problem=2)."
   ]
  },
  {
   "cell_type": "code",
   "execution_count": 12,
   "metadata": {},
   "outputs": [
    {
     "name": "stdout",
     "output_type": "stream",
     "text": [
      "233159\n",
      "232164\n"
     ]
    }
   ],
   "source": [
    "problem_1_answer = (\n",
    "    np.sum(3*np.arange(int(1000/3))) + \n",
    "    np.sum(5*np.arange(int(1000/5))) - \n",
    "    np.sum(15*np.arange(int(1000/15)))\n",
    ")\n",
    "\n",
    "# Your solution\n",
    "problem1Answer = (np.sum(3*np.arange(int(999/3))) + np.sum(5*np.arange(int(999/5))) - np.sum(15*np.arange(int(999/15))))\n",
    "print(problem_1_answer)\n",
    "print(problem1Answer)"
   ]
  },
  {
   "cell_type": "code",
   "execution_count": null,
   "metadata": {},
   "outputs": [],
   "source": [
    "# Solve this one on your own.\n",
    "fibSeq = []\n",
    "fibSeq.append(1)\n",
    "print(fibSeq)\n",
    "fibSum = 0; \n",
    "sum = 1\n",
    "for a in fibSeq: \n",
    "    sum += a\n",
    "    fibSeq.append(sum) \n",
    "    if(sum/2 == 0)\n",
    "        fibSum += sum"
   ]
  },
  {
   "cell_type": "code",
   "execution_count": null,
   "metadata": {},
   "outputs": [],
   "source": []
  },
  {
   "cell_type": "code",
   "execution_count": null,
   "metadata": {},
   "outputs": [],
   "source": []
  }
 ],
 "metadata": {
  "kernelspec": {
   "display_name": "Python 3",
   "language": "python",
   "name": "python3"
  },
  "language_info": {
   "codemirror_mode": {
    "name": "ipython",
    "version": 3
   },
   "file_extension": ".py",
   "mimetype": "text/x-python",
   "name": "python",
   "nbconvert_exporter": "python",
   "pygments_lexer": "ipython3",
   "version": "3.6.4"
  }
 },
 "nbformat": 4,
 "nbformat_minor": 2
}
