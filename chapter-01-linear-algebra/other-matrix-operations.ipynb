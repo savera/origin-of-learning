{
 "cells": [
  {
   "cell_type": "markdown",
   "metadata": {},
   "source": [
    "# Other Matrix Operations\n",
    "\n",
    "There are a variety of other matrix operations that are used within machine learning. Most of these are simpler than matrix multiplication, but regardless, they are important to know and use."
   ]
  },
  {
   "cell_type": "code",
   "execution_count": 1,
   "metadata": {},
   "outputs": [],
   "source": [
    "import numpy as np\n",
    "import matplotlib.pyplot\n",
    "from random import randomint"
   ]
  },
  {
   "cell_type": "markdown",
   "metadata": {},
   "source": [
    "## Transpose"
   ]
  },
  {
   "cell_type": "code",
   "execution_count": 3,
   "metadata": {},
   "outputs": [
    {
     "name": "stdout",
     "output_type": "stream",
     "text": [
      "(2, 3)\n"
     ]
    }
   ],
   "source": [
    "A = np.array([[1, 2, 3],\n",
    "              [4, 5, 6]])\n",
    "A.T\n",
    "print(A.shape)\n"
   ]
  },
  {
   "cell_type": "markdown",
   "metadata": {},
   "source": [
    "**Problem:** Write a function that does the transpose. If you need to, try working it out by hand first and then coding."
   ]
  },
  {
   "cell_type": "code",
   "execution_count": 7,
   "metadata": {},
   "outputs": [],
   "source": [
    "def transpose(A):\n",
    "    B = np.empty((A.shape[1],A.shape[0]))\n",
    "    for i in range(A.shape[0]):\n",
    "        for j in range(A.shape[1]):\n",
    "            B[j][i] = A[i][j]\n",
    "    return B"
   ]
  },
  {
   "cell_type": "code",
   "execution_count": 8,
   "metadata": {},
   "outputs": [
    {
     "name": "stdout",
     "output_type": "stream",
     "text": [
      "Success\n"
     ]
    }
   ],
   "source": [
    "for i in range(10):\n",
    "    shape = np.random.randint(low=1, high=100, size=2)\n",
    "    A = np.random.randn(*shape)\n",
    "    assert np.allclose(A.T, transpose(A))\n",
    "print('Success')"
   ]
  },
  {
   "cell_type": "markdown",
   "metadata": {},
   "source": [
    "**Problem:** Verify the first 3 properties of the matrix transpose listed in [Wikipedia](https://en.wikipedia.org/wiki/Transpose#Properties). Namely,\n",
    "\n",
    "$$\\begin{align}\n",
    "\\left(\\mathbf {A} ^{\\mathrm {T} }\\right)^{\\mathrm {T} }&=\\mathbf {A} \\quad  \\\\\n",
    "\\left(\\mathbf {A} +\\mathbf {B} \\right)^{\\mathrm {T} }&=\\mathbf {A} ^{\\mathrm {T} }+\\mathbf {B} ^{\\mathrm {T}} \\\\\n",
    "\\left(\\mathbf {AB} \\right)^{\\mathrm {T} } &=\\mathbf {B} ^{\\mathrm {T} }\\mathbf {A} ^{\\mathrm {T} }\n",
    "\\end{align}$$\n",
    "\n",
    "Use the built-in Numpy functions `A.dot(B)`, `A.T`, and `A + B` to demonstrate this numerically. Make sure you verify this for non-square matrices. Meaning ` A.shape[0] != A.shape[1] `."
   ]
  },
  {
   "cell_type": "code",
   "execution_count": 15,
   "metadata": {},
   "outputs": [],
   "source": [
    "A = np.array([[1,2,3],[4,5,6]])\n",
    "B = np.array([[7,8,9],[10,11,12]])\n",
    "C = np.array([[7,8],[10,11],[13,14]])\n",
    "def first(A):\n",
    "    B = np.empty((A.shape[1], A.shape[0]))\n",
    "    C = np.empty((B.shape[1], B.shape[0]))\n",
    "    for i in range(A.shape[0]):\n",
    "        for j in range(A.shape[1]):\n",
    "            B[j][i] = A[i][j] \n",
    "    for m in range(B.shape[0]):\n",
    "        for n in range(B.shape[1]):\n",
    "            C[n][m] = B[m][n] \n",
    "    return C\n",
    "\n",
    "def second(A,B):\n",
    "    C = np.empty((A.shape[0], A.shape[1]))\n",
    "    D = np.empty((C.shape[1], C.shape[0]))\n",
    "    for i in range(A.shape[0]):\n",
    "        for j in range(A.shape[1]):\n",
    "            C[i][j] = A[i][j] + B[i][j]\n",
    "    for m in range(B.shape[0]):\n",
    "        for n in range(B.shape[1]):\n",
    "            D[n][m] = C[m][n] \n",
    "    return D\n",
    "\n",
    "def third(A,B): \n",
    "    return A.dot(B).T\n",
    "                \n",
    "\n",
    "assert np.allclose(A, first(A))\n",
    "assert np.allclose(A.T + B.T, second(A,B))\n",
    "assert np.allclose((C.T).dot(A.T), third(A,C))"
   ]
  },
  {
   "cell_type": "markdown",
   "metadata": {},
   "source": [
    "## Matrix-Vector Multiplication\n",
    "\n",
    "A matrix times a vector is the same as a matrix times a matrix if the second matrix is a column,"
   ]
  },
  {
   "cell_type": "code",
   "execution_count": 13,
   "metadata": {},
   "outputs": [
    {
     "name": "stdout",
     "output_type": "stream",
     "text": [
      "[[ 0  1  2  3  4  5]\n",
      " [ 6  7  8  9 10 11]\n",
      " [12 13 14 15 16 17]\n",
      " [18 19 20 21 22 23]\n",
      " [24 25 26 27 28 29]]\n",
      "[[0]\n",
      " [1]\n",
      " [2]\n",
      " [3]\n",
      " [4]\n",
      " [5]]\n",
      "[[ 55]\n",
      " [145]\n",
      " [235]\n",
      " [325]\n",
      " [415]]\n"
     ]
    }
   ],
   "source": [
    "A = np.arange(30).reshape((5, 6))\n",
    "b = np.arange(6).reshape((6, 1))\n",
    "print(A)\n",
    "print(b)\n",
    "print(A.dot(b))"
   ]
  },
  {
   "cell_type": "markdown",
   "metadata": {},
   "source": [
    "**Problem:** If I have a matrix $ A $ with shape `(N, M)` and multiply it by a vector $ x $. What shape must $ x $ be? What shape will $ A x $ be? Verify this numerically."
   ]
  },
  {
   "cell_type": "code",
   "execution_count": 20,
   "metadata": {},
   "outputs": [],
   "source": [
    "A = np.array([[1,2,3],[4,5,6]])\n",
    "V = np.array([[1],[2],[3]])\n",
    "\n",
    "assert np.allclose(3, V.shape[0])\n",
    "assert np.allclose(1, V.shape[1])\n",
    "assert np.allclose(2, A.dot(V).shape[0])\n",
    "assert np.allclose(1, A.dot(V).shape[1])"
   ]
  },
  {
   "cell_type": "markdown",
   "metadata": {},
   "source": [
    "## Symmetric Matrices\n",
    "\n",
    "Symmetric matrices are such that $ S = S^T $. We can make symmetric matrices by taking any square matrix $ A $ and doing $ S = A + A^T $.\n",
    "\n",
    "**Problem:** Verify this numerically with a few randomly generated examples and then prove it analytically."
   ]
  },
  {
   "cell_type": "code",
   "execution_count": 30,
   "metadata": {},
   "outputs": [
    {
     "ename": "SyntaxError",
     "evalue": "invalid syntax (<ipython-input-30-e3c9327bff59>, line 1)",
     "output_type": "error",
     "traceback": [
      "\u001b[0;36m  File \u001b[0;32m\"<ipython-input-30-e3c9327bff59>\"\u001b[0;36m, line \u001b[0;32m1\u001b[0m\n\u001b[0;31m    for i in range 10:\u001b[0m\n\u001b[0m                    ^\u001b[0m\n\u001b[0;31mSyntaxError\u001b[0m\u001b[0;31m:\u001b[0m invalid syntax\n"
     ]
    }
   ],
   "source": [
    "A = np.array([[1,2],[4,5]])\n",
    "S = np.empty((A.shape[0], A.shape[1]))\n",
    "S = A + A.T\n",
    "assert np.allclose(S.T, S)"
   ]
  },
  {
   "cell_type": "markdown",
   "metadata": {},
   "source": [
    "You can also make symmetric matrices by doing $ S = A^T A $.\n",
    "\n",
    "**Problem:** Verify this numerically with a few randomly generated examples and then prove it analytically."
   ]
  },
  {
   "cell_type": "code",
   "execution_count": 24,
   "metadata": {},
   "outputs": [],
   "source": [
    "A = np.array([[1,2],[4,5]])\n",
    "S = np.empty((A.shape[0], A.shape[1]))\n",
    "S = A.dot(A.T)\n",
    "assert np.allclose(S.T, S)"
   ]
  },
  {
   "cell_type": "markdown",
   "metadata": {},
   "source": [
    "Symmetric matrices like $ S = A^T A $ have a special property under multiplication. Namely for any vector $ z $ of the correct shape, $ z^T A^T A z \\geq 0 $ regardless of the matrix $ A $.\n",
    "\n",
    "**Problem:** Demonstrate this numerically by running random examples. If you know how, prove this analytically after."
   ]
  }
 ],
 "metadata": {
  "kernelspec": {
   "display_name": "Python 3",
   "language": "python",
   "name": "python3"
  },
  "language_info": {
   "codemirror_mode": {
    "name": "ipython",
    "version": 3
   },
   "file_extension": ".py",
   "mimetype": "text/x-python",
   "name": "python",
   "nbconvert_exporter": "python",
   "pygments_lexer": "ipython3",
   "version": "3.6.4"
  }
 },
 "nbformat": 4,
 "nbformat_minor": 2
}
